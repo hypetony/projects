{
 "cells": [
  {
   "cell_type": "code",
   "execution_count": null,
   "id": "96a41668-ee93-4fb7-b845-36b88a71268c",
   "metadata": {},
   "outputs": [],
   "source": [
    "import turtle\n",
    "import time\n",
    "\n",
    "# Create the screen\n",
    "screen = turtle.Screen()\n",
    "screen.title(\"Pong Game\")\n",
    "screen.bgcolor(\"black\")\n",
    "screen.setup(width=600, height=400)\n",
    "\n",
    "# Create the paddles, ball, and score display (unchanged from your code)\n",
    "\n",
    "# Functions to move the paddles (unchanged from your code)\n",
    "\n",
    "# Keyboard bindings (unchanged from your code)\n",
    "\n",
    "# Main game loop function\n",
    "def update_game():\n",
    "    global score_a, score_b\n",
    "    screen.update()\n",
    "\n",
    "    # Move the ball\n",
    "    ball.setx(ball.xcor() + ball.dx)\n",
    "    ball.sety(ball.ycor() + ball.dy)\n",
    "\n",
    "    # Border checking (unchanged from your code)\n",
    "\n",
    "    # Paddle and ball collision (unchanged from your code)\n",
    "\n",
    "    # Call update_game again after 20 milliseconds\n",
    "    screen.ontimer(update_game, 20)\n",
    "\n",
    "# Set up the initial game state\n",
    "score_a = 0\n",
    "score_b = 0\n",
    "\n",
    "# Create the ball (added this line)\n",
    "ball = turtle.Turtle()\n",
    "ball.speed(40)\n",
    "ball.shape(\"circle\")\n",
    "ball.color(\"white\")\n",
    "ball.penup()\n",
    "ball.goto(0, 0)\n",
    "ball.dx = 3\n",
    "ball.dy = -3\n",
    "\n",
    "# Call the initial update_game to start the game loop\n",
    "update_game()\n",
    "\n",
    "# Keyboard bindings (unchanged from your code)\n",
    "\n",
    "# Keyboard bindings (unchanged from your code)\n",
    "\n",
    "# Start the game\n",
    "turtle.done()\n"
   ]
  },
  {
   "cell_type": "code",
   "execution_count": null,
   "id": "afa8c97a-5559-432a-8b1d-ec7fafac825c",
   "metadata": {},
   "outputs": [],
   "source": []
  }
 ],
 "metadata": {
  "kernelspec": {
   "display_name": "Python 3 (ipykernel)",
   "language": "python",
   "name": "python3"
  },
  "language_info": {
   "codemirror_mode": {
    "name": "ipython",
    "version": 3
   },
   "file_extension": ".py",
   "mimetype": "text/x-python",
   "name": "python",
   "nbconvert_exporter": "python",
   "pygments_lexer": "ipython3",
   "version": "3.10.9"
  }
 },
 "nbformat": 4,
 "nbformat_minor": 5
}
